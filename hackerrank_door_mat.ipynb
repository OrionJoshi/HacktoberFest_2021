{
  "nbformat": 4,
  "nbformat_minor": 0,
  "metadata": {
    "colab": {
      "name": "hackerrank_door_mat.ipynb",
      "provenance": []
    },
    "kernelspec": {
      "name": "python3",
      "display_name": "Python 3"
    },
    "language_info": {
      "name": "python"
    }
  },
  "cells": [
    {
      "cell_type": "markdown",
      "metadata": {
        "id": "3NJehEORBWxY"
      },
      "source": [
        "# Designer Door Mat"
      ]
    },
    {
      "cell_type": "code",
      "metadata": {
        "colab": {
          "base_uri": "https://localhost:8080/"
        },
        "id": "ynQ9gWS6BVBQ",
        "outputId": "4422daee-d696-44ad-86a9-6e3bf0ee80a1"
      },
      "source": [
        "# Enter your code here. Read input from STDIN. Print output to STDOUT\n",
        "N,M = map(int,input().split())\n",
        "for i in range(1, N, 2):\n",
        "    print((i*'.|.').center(M,'-'))\n",
        "print('WELCOME'.center(M,'-'))\n",
        "for i in range(N-2, -1, -2):\n",
        "    print((i*'.|.').center(M,'-'))\n"
      ],
      "execution_count": 1,
      "outputs": [
        {
          "output_type": "stream",
          "name": "stdout",
          "text": [
            "10 30\n",
            "-------------.|.--------------\n",
            "----------.|..|..|.-----------\n",
            "-------.|..|..|..|..|.--------\n",
            "----.|..|..|..|..|..|..|.-----\n",
            "-.|..|..|..|..|..|..|..|..|.--\n",
            "-----------WELCOME------------\n",
            "---.|..|..|..|..|..|..|..|.---\n",
            "------.|..|..|..|..|..|.------\n",
            "---------.|..|..|..|.---------\n",
            "------------.|..|.------------\n",
            "------------------------------\n"
          ]
        }
      ]
    },
    {
      "cell_type": "code",
      "metadata": {
        "id": "xAWj8rzoBkbu"
      },
      "source": [
        ""
      ],
      "execution_count": null,
      "outputs": []
    }
  ]
}